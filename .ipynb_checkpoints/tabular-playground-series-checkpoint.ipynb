{
 "cells": [
  {
   "cell_type": "code",
   "execution_count": 1,
   "metadata": {},
   "outputs": [],
   "source": [
    "import numpy as np\n",
    "import csv\n",
    "import pandas as pd\n",
    "import tensorflow as tf\n",
    "from tensorflow import keras"
   ]
  },
  {
   "cell_type": "code",
   "execution_count": 2,
   "metadata": {},
   "outputs": [],
   "source": [
    "def get_num_hidden_layers(Ns,alpha,Ni,No):\n",
    "    return round(Ns/(alpha * (Ni + No)))"
   ]
  },
  {
   "cell_type": "code",
   "execution_count": 3,
   "metadata": {},
   "outputs": [],
   "source": [
    "with open('train.csv') as f:\n",
    "    reader = csv.reader(f)\n",
    "    contents = list(reader)"
   ]
  },
  {
   "cell_type": "code",
   "execution_count": 4,
   "metadata": {},
   "outputs": [],
   "source": [
    "df = pd.read_csv('train.csv')"
   ]
  },
  {
   "cell_type": "code",
   "execution_count": 5,
   "metadata": {},
   "outputs": [],
   "source": [
    "items = []\n",
    "for i in range(len(df['id'].values)):\n",
    "    item = np.asarray(df.loc[df['id'] == i].values[0][1:-1]).astype('float64')\n",
    "    items.append(item)"
   ]
  },
  {
   "cell_type": "code",
   "execution_count": 6,
   "metadata": {},
   "outputs": [],
   "source": [
    "classes = df['target'].values"
   ]
  },
  {
   "cell_type": "code",
   "execution_count": 7,
   "metadata": {},
   "outputs": [],
   "source": [
    "classes = [int(string[-1])-1 for string in classes]\n",
    "classes = np.asarray(classes).astype('float64')"
   ]
  },
  {
   "cell_type": "code",
   "execution_count": 8,
   "metadata": {},
   "outputs": [],
   "source": [
    "Ns = len(df['id'])\n",
    "alpha = 2\n",
    "Ni = len(items[0])\n",
    "No = 4\n",
    "\n",
    "num_hidden_layers = get_num_hidden_layers(Ns,alpha,Ni,No)"
   ]
  },
  {
   "cell_type": "code",
   "execution_count": 9,
   "metadata": {},
   "outputs": [],
   "source": [
    "model = tf.keras.models.Sequential([\n",
    "    tf.keras.layers.Dense(Ni, input_shape = (Ni,), activation = 'sigmoid'), \n",
    "    tf.keras.layers.Dense(num_hidden_layers, activation = 'sigmoid'),\n",
    "    tf.keras.layers.Dense(No, activation = 'sigmoid')\n",
    "])"
   ]
  },
  {
   "cell_type": "code",
   "execution_count": 10,
   "metadata": {},
   "outputs": [
    {
     "name": "stdout",
     "output_type": "stream",
     "text": [
      "Model: \"sequential\"\n",
      "_________________________________________________________________\n",
      "Layer (type)                 Output Shape              Param #   \n",
      "=================================================================\n",
      "dense (Dense)                (None, 50)                2550      \n",
      "_________________________________________________________________\n",
      "dense_1 (Dense)              (None, 926)               47226     \n",
      "_________________________________________________________________\n",
      "dense_2 (Dense)              (None, 4)                 3708      \n",
      "=================================================================\n",
      "Total params: 53,484\n",
      "Trainable params: 53,484\n",
      "Non-trainable params: 0\n",
      "_________________________________________________________________\n"
     ]
    }
   ],
   "source": [
    "model.summary()"
   ]
  },
  {
   "cell_type": "code",
   "execution_count": 11,
   "metadata": {},
   "outputs": [],
   "source": [
    "model.compile(optimizer = 'adam',\n",
    "              loss = 'sparse_categorical_crossentropy',\n",
    "              metrics=['accuracy'])"
   ]
  },
  {
   "cell_type": "code",
   "execution_count": 12,
   "metadata": {},
   "outputs": [
    {
     "name": "stdout",
     "output_type": "stream",
     "text": [
      "Epoch 1/30\n",
      "3125/3125 [==============================] - 7s 2ms/step - loss: 1.1413 - accuracy: 0.5696\n",
      "Epoch 2/30\n",
      "3125/3125 [==============================] - 7s 2ms/step - loss: 1.1192 - accuracy: 0.5730\n",
      "Epoch 3/30\n",
      "3125/3125 [==============================] - 7s 2ms/step - loss: 1.1085 - accuracy: 0.5751\n",
      "Epoch 4/30\n",
      "3125/3125 [==============================] - 7s 2ms/step - loss: 1.1016 - accuracy: 0.5765: 0s - loss: 1.1016 - accuracy\n",
      "Epoch 5/30\n",
      "3125/3125 [==============================] - 7s 2ms/step - loss: 1.1030 - accuracy: 0.5757\n",
      "Epoch 6/30\n",
      "3125/3125 [==============================] - 7s 2ms/step - loss: 1.0956 - accuracy: 0.5779\n",
      "Epoch 7/30\n",
      "3125/3125 [==============================] - 9s 3ms/step - loss: 1.0932 - accuracy: 0.5794: 0s - loss: 1.0930 - ac\n",
      "Epoch 8/30\n",
      "3125/3125 [==============================] - 7s 2ms/step - loss: 1.0873 - accuracy: 0.5813\n",
      "Epoch 9/30\n",
      "3125/3125 [==============================] - 7s 2ms/step - loss: 1.0877 - accuracy: 0.5817\n",
      "Epoch 10/30\n",
      "3125/3125 [==============================] - 7s 2ms/step - loss: 1.0939 - accuracy: 0.5779\n",
      "Epoch 11/30\n",
      "3125/3125 [==============================] - 7s 2ms/step - loss: 1.0948 - accuracy: 0.5775\n",
      "Epoch 00011: early stopping\n"
     ]
    },
    {
     "data": {
      "text/plain": [
       "<tensorflow.python.keras.callbacks.History at 0x13b64b760>"
      ]
     },
     "execution_count": 12,
     "metadata": {},
     "output_type": "execute_result"
    }
   ],
   "source": [
    "model.fit(\n",
    "          x = np.array(items), y = np.array(classes), \n",
    "          callbacks = tf.keras.callbacks.EarlyStopping(monitor='loss', patience=1, verbose = 1, baseline = None, min_delta = 0.001), \n",
    "          epochs = 30, \n",
    "          verbose = 1\n",
    "        )"
   ]
  },
  {
   "cell_type": "code",
   "execution_count": 13,
   "metadata": {},
   "outputs": [],
   "source": [
    "with open('test.csv') as f:\n",
    "    reader = csv.reader(f)\n",
    "    contents = list(reader)\n",
    "test_df = pd.read_csv('test.csv')\n",
    "new_vals = [x - test_df['id'].values[0] for x in test_df['id'].values]\n",
    "test_df['id'] = new_vals\n",
    "test_items = []\n",
    "for i in range(len(test_df['id'].values)):\n",
    "    test_item = np.asarray(test_df.loc[test_df['id'] == i].values[0][1:]).astype('float64')\n",
    "    test_items.append(test_item)  "
   ]
  },
  {
   "cell_type": "code",
   "execution_count": 14,
   "metadata": {},
   "outputs": [],
   "source": [
    "predictions = model.predict_on_batch(np.array(test_items))"
   ]
  },
  {
   "cell_type": "code",
   "execution_count": 15,
   "metadata": {},
   "outputs": [],
   "source": [
    "i = 100000\n",
    "guesses = []\n",
    "for arrays in predictions:\n",
    "    guesses.append([i,arrays[0],arrays[1],arrays[2],arrays[3]])\n",
    "    i+=1"
   ]
  },
  {
   "cell_type": "code",
   "execution_count": 16,
   "metadata": {},
   "outputs": [],
   "source": [
    "with open(\"submission.csv\", \"w\") as f:\n",
    "    writer = csv.writer(f)\n",
    "    writer.writerow([\"id\",\"Class_1\",\"Class_2\",\"Class_3\",\"Class_4\"])\n",
    "    for values in guesses:\n",
    "        writer.writerow([values[0],values[1],values[2],values[3],values[4]])"
   ]
  }
 ],
 "metadata": {
  "kernelspec": {
   "display_name": "Python 3",
   "language": "python",
   "name": "python3"
  },
  "language_info": {
   "codemirror_mode": {
    "name": "ipython",
    "version": 3
   },
   "file_extension": ".py",
   "mimetype": "text/x-python",
   "name": "python",
   "nbconvert_exporter": "python",
   "pygments_lexer": "ipython3",
   "version": "3.8.5"
  }
 },
 "nbformat": 4,
 "nbformat_minor": 4
}
